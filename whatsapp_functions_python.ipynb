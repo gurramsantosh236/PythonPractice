{
  "nbformat": 4,
  "nbformat_minor": 0,
  "metadata": {
    "colab": {
      "provenance": [],
      "include_colab_link": true
    },
    "kernelspec": {
      "name": "python3",
      "display_name": "Python 3"
    },
    "language_info": {
      "name": "python"
    }
  },
  "cells": [
    {
      "cell_type": "markdown",
      "metadata": {
        "id": "view-in-github",
        "colab_type": "text"
      },
      "source": [
        "<a href=\"https://colab.research.google.com/github/gurramsantosh236/PythonPractice/blob/main/whatsapp_functions_python.ipynb\" target=\"_parent\"><img src=\"https://colab.research.google.com/assets/colab-badge.svg\" alt=\"Open In Colab\"/></a>"
      ]
    },
    {
      "cell_type": "code",
      "execution_count": 2,
      "metadata": {
        "colab": {
          "base_uri": "https://localhost:8080/"
        },
        "id": "LynczderHEfx",
        "outputId": "2534c408-c819-4c01-9ce5-b1ab436b3219"
      },
      "outputs": [
        {
          "output_type": "stream",
          "name": "stdout",
          "text": [
            "Hello World\n"
          ]
        }
      ],
      "source": [
        "print(\"Hello World\")"
      ]
    },
    {
      "cell_type": "code",
      "source": [
        "x=\"Santoshkumar\"\n",
        "y=len(x)\n",
        "z=\"*\"\n",
        "m=\" \"\n",
        "p=0\n",
        "for dt in x:\n",
        "  print(m*y,z*p,dt,z*p)\n",
        "  y=y-1\n",
        "  p+=1"
      ],
      "metadata": {
        "id": "E7AyRVAQOsRm",
        "outputId": "9034c099-0f32-4aa3-d913-0c1466c75cfa",
        "colab": {
          "base_uri": "https://localhost:8080/"
        }
      },
      "execution_count": 33,
      "outputs": [
        {
          "output_type": "stream",
          "name": "stdout",
          "text": [
            "              S \n",
            "            * a *\n",
            "           ** n **\n",
            "          *** t ***\n",
            "         **** o ****\n",
            "        ***** s *****\n",
            "       ****** h ******\n",
            "      ******* k *******\n",
            "     ******** u ********\n",
            "    ********* m *********\n",
            "   ********** a **********\n",
            "  *********** r ***********\n"
          ]
        }
      ]
    }
  ]
}